{
 "cells": [
  {
   "cell_type": "code",
   "execution_count": 1,
   "id": "c180706a-26fe-4dcb-8049-05a0eec005f9",
   "metadata": {},
   "outputs": [],
   "source": [
    "def is_isogram(string):\n",
    "    \n",
    "    word = string.lower()\n",
    "    \n",
    "    unique_letters = set()\n",
    "    \n",
    "    for letter in word:\n",
    "        \n",
    "        if letter in unique_letters:\n",
    "            return False\n",
    "        \n",
    "        else:\n",
    "            unique_letters.add(letter)\n",
    "            \n",
    "    return True"
   ]
  },
  {
   "cell_type": "code",
   "execution_count": null,
   "id": "40ea39b7-2e89-4b11-9aaf-e161ad893d7f",
   "metadata": {},
   "outputs": [],
   "source": []
  }
 ],
 "metadata": {
  "kernelspec": {
   "display_name": "Python 3 (ipykernel)",
   "language": "python",
   "name": "python3"
  },
  "language_info": {
   "codemirror_mode": {
    "name": "ipython",
    "version": 3
   },
   "file_extension": ".py",
   "mimetype": "text/x-python",
   "name": "python",
   "nbconvert_exporter": "python",
   "pygments_lexer": "ipython3",
   "version": "3.11.5"
  }
 },
 "nbformat": 4,
 "nbformat_minor": 5
}
